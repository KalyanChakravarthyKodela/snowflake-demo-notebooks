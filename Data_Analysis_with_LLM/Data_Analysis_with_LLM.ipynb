{
 "metadata": {
  "kernelspec": {
   "display_name": "Streamlit Notebook",
   "name": "streamlit"
  },
  "lastEditStatus": {
   "notebookId": "7vfpxlcc5brsm6magpsd",
   "authorId": "6841714608330",
   "authorName": "CHANINN",
   "authorEmail": "chanin.nantasenamat@snowflake.com",
   "sessionId": "248cc86f-5bc6-4821-99fc-2eb76b036f89",
   "lastEditTime": 1739213397874
  }
 },
 "nbformat_minor": 5,
 "nbformat": 4,
 "cells": [
  {
   "cell_type": "markdown",
   "id": "414e046d-9d1c-4919-9914-a9ca160084b3",
   "metadata": {
    "name": "md_title",
    "collapsed": false
   },
   "source": "# Data Analysis with LLM in Snowflake Notebooks\n\nA notebook that answer questions about data via the use of an LLM reasoning model namely the DeepSeek-R1.\n\nHere's what we're implementing to investigate the tables:\n1. Retrieve penguins data\n2. Convert table to a DataFrame\n3. Create a text box for accepting user input\n4. Generate LLM response to answer questions about the data"
  },
  {
   "cell_type": "markdown",
   "id": "d069b3b5-7abe-4a46-a359-9b321ee539d8",
   "metadata": {
    "name": "md_retrieve_data",
    "collapsed": false
   },
   "source": "## 1. Retrieve penguins data\n\nWe'll start by performing a simple SQL query to retrieve the penguins data."
  },
  {
   "cell_type": "code",
   "id": "8d50cbf4-0c8d-4950-86cb-114990437ac9",
   "metadata": {
    "language": "sql",
    "name": "sql_output",
    "codeCollapsed": false,
    "collapsed": false
   },
   "source": "SELECT * FROM CHANINN_DEMO_DATA.PUBLIC.PENGUINS",
   "execution_count": null,
   "outputs": []
  },
  {
   "cell_type": "markdown",
   "id": "40ea697a-bca6-400b-b1c4-0a1eb90948b6",
   "metadata": {
    "name": "md_dataframe",
    "collapsed": false
   },
   "source": "## 2. Convert table to a DataFrame\n\nNext, we'll convert the table to a Pandas DataFrame."
  },
  {
   "cell_type": "code",
   "id": "115fa0b9-4adb-413f-ad7c-34037e9f341d",
   "metadata": {
    "language": "python",
    "name": "df",
    "collapsed": false
   },
   "outputs": [],
   "source": "sql_output.to_pandas()",
   "execution_count": null
  },
  {
   "cell_type": "markdown",
   "id": "1ef20081-c6f2-4e3e-8191-e9477e356a4c",
   "metadata": {
    "name": "md_helper",
    "collapsed": false
   },
   "source": "## 3. Create helper functions\n\nHere, we'll create several helper functions that will be used in the forthcoming app that we're developing.\n1. `generate_deepseek_response()` - accepts user-provided `prompt` as input query model. Briefly, the input box allow users to ask questions about data and that will be assigned to the `prompt` variable."
  },
  {
   "cell_type": "code",
   "id": "c695373e-ac74-4b62-a1f1-08206cbd5c81",
   "metadata": {
    "language": "python",
    "name": "py_helper",
    "codeCollapsed": false,
    "collapsed": false
   },
   "source": "# Helper function\ndef generate_deepseek_response(prompt):\n    cortex_prompt = f\"'[INST] {prompt} [/INST]'\"\n    prompt_data = [{'role': 'user', 'content': cortex_prompt}]\n    prompt_json = escape_sql_string(json.dumps(prompt_data))\n    response = session.sql(\n        \"select snowflake.cortex.complete(?, ?)\", \n        params=['deepseek-r1', prompt_json]\n    ).collect()[0][0]\n    \n    return response\n\ndef extract_think_content(response):\n    think_pattern = r'<think>(.*?)</think>'\n    think_match = re.search(think_pattern, response, re.DOTALL)\n    \n    if think_match:\n        think_content = think_match.group(1).strip()\n        main_response = re.sub(think_pattern, '', response, flags=re.DOTALL).strip()\n        return think_content, main_response\n    return None, response\n\ndef escape_sql_string(s):\n    return s.replace(\"'\", \"''\")",
   "execution_count": null,
   "outputs": []
  },
  {
   "cell_type": "markdown",
   "id": "d2e6771a-80c6-474c-ac2d-46ada30dbb5d",
   "metadata": {
    "name": "md_app",
    "collapsed": false
   },
   "source": "## Create the Asking about Penguins app\n\nNow that we have the data and helper functions ready, let's wrap up by creating the app.\n\n"
  },
  {
   "cell_type": "code",
   "id": "8b8bcc88-fcb1-4abc-ad40-91a42fca5314",
   "metadata": {
    "language": "python",
    "name": "py_app",
    "collapsed": false,
    "codeCollapsed": false
   },
   "outputs": [],
   "source": "import streamlit as st\nfrom snowflake.snowpark.context import get_active_session\nimport json\nimport pandas as pd\nimport re\n\n# Write directly to the app\nst.title(\"🐧 Ask about Penguins\")\n\n# Get the current credentials\nsession = get_active_session()\n\n# df = sql_output.to_pandas()\n\nuser_queries = [\"Which penguins has the longest bill length?\",\n                \"Where do the heaviest penguins live?\",\n                \"Which penguins has the shortest flippers?\"]\n\nquestion = st.selectbox(\"What would you like to know?\", user_queries)\n# question = st.text_input(\"Ask a question\", user_queries[0])\n\nprompt = [\n    {\n        'role': 'system',\n        'content': 'You are a helpful assistant that uses provided data to answer natural language questions.'\n    },\n    {\n        'role': 'user',\n        'content': (\n            f'The user has asked a question: {question}. '\n            f'Please use this data to answer the question: {df.to_markdown(index=False)}'\n        )\n    },\n    {\n        'temperature': 0.7,\n        'max_tokens': 1000,\n        'guardrails': True\n    }\n]\n\ndf\n\nif st.button(\"Submit\"):\n    status_container = st.status(\"Thinking ...\", expanded=True)\n    with status_container:\n        response = generate_deepseek_response(prompt)\n        think_content, main_response = extract_think_content(response)\n        if think_content:\n            st.write(think_content)\n                \n    status_container.update(label=\"Thoughts\", state=\"complete\", expanded=False)\n    st.markdown(main_response)",
   "execution_count": null
  },
  {
   "cell_type": "markdown",
   "id": "c6e6119e-3a35-4c28-ac37-26f71d24e62b",
   "metadata": {
    "name": "md_resources",
    "collapsed": false
   },
   "source": "## Want to learn more?\n\n- More about [palmerpenguins](https://allisonhorst.github.io/palmerpenguins/) data set.\n- More about [Snowflake Notebooks](https://docs.snowflake.com/en/user-guide/ui-snowsight/notebooks-use-with-snowflake)\n- For more inspiration on how to use Streamlit widgets in Notebooks, check out [Streamlit Docs](https://docs.streamlit.io/) and this list of what is currently supported inside [Snowflake Notebooks](https://docs.snowflake.com/en/user-guide/ui-snowsight/notebooks-use-with-snowflake#label-notebooks-streamlit-support)"
  }
 ]
}