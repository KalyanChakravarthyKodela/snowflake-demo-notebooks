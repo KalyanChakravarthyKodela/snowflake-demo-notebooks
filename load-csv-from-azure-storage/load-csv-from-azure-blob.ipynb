import json

# Define the Jupyter Notebook structure
notebook_content = {
    "cells": [
        {
            "cell_type": "markdown",
            "metadata": {},
            "source": ["# Load CSV from Azure Blob Storage to Snowflake using Snowpark"]
        },
        {
            "cell_type": "code",
            "metadata": {},
            "source": [
                "from snowflake.snowpark import Session\n",
                "import json"
            ]
        },
        {
            "cell_type": "markdown",
            "metadata": {},
            "source": ["## Establish Snowflake Session"]
        },
        {
            "cell_type": "code",
            "metadata": {},
            "source": [
                "connection_parameters = {\n",
                "    \"account\": \"<your_account>\",\n",
                "    \"user\": \"<your_user>\",\n",
                "    \"password\": \"<your_password>\",\n",
                "    \"role\": \"<your_role>\",\n",
                "    \"warehouse\": \"<your_warehouse>\",\n",
                "    \"database\": \"<your_database>\",\n",
                "    \"schema\": \"<your_schema>\"\n",
                "}\n",
                "session = Session.builder.configs(connection_parameters).create()\n",
                "print(session)"
            ]
        },
        {
            "cell_type": "markdown",
            "metadata": {},
            "source": ["## Create External Stage for Azure Blob Storage"]
        },
        {
            "cell_type": "code",
            "metadata": {"language": "sql"},
            "source": [
                "CREATE OR REPLACE STAGE azure_stage\n",
                "  URL = 'azure://<storage_account>.blob.core.windows.net/<container>'\n",
                "  CREDENTIALS = (AZURE_SAS_TOKEN = '<your_sas_token>');"
            ]
        },
        {
            "cell_type": "markdown",
            "metadata": {},
            "source": ["## List Files in External Stage"]
        },
        {
            "cell_type": "code",
            "metadata": {"language": "sql"},
            "source": ["LIST @azure_stage;"]
        },
        {
            "cell_type": "markdown",
            "metadata": {},
            "source": ["## Load CSV into Snowpark DataFrame"]
        },
        {
            "cell_type": "code",
            "metadata": {},
            "source": [
                "df = session.read.options({\"infer_schema\": True}).csv('@azure_stage/<your_csv_file>.csv')\n",
                "df.show()"
            ]
        },
        {
            "cell_type": "markdown",
            "metadata": {},
            "source": ["## Write DataFrame to Snowflake Table"]
        },
        {
            "cell_type": "code",
            "metadata": {},
            "source": ["df.write.mode(\"overwrite\").save_as_table(\"APP_ORDER\")"]
        },
        {
            "cell_type": "markdown",
            "metadata": {},
            "source": ["## Query Table in Snowflake"]
        },
        {
            "cell_type": "code",
            "metadata": {"language": "sql"},
            "source": ["SELECT * FROM APP_ORDER;"]
        },
        {
            "cell_type": "markdown",
            "metadata": {},
            "source": ["## Clean Up Resources"]
        },
        {
            "cell_type": "code",
            "metadata": {"language": "sql"},
            "source": [
                "DROP TABLE IF EXISTS APP_ORDER;\n",
                "DROP STAGE IF EXISTS azure_stage;"
            ]
        }
    ],
    "metadata": {
        "kernelspec": {
            "display_name": "Python 3",
            "language": "python",
            "name": "python3"
        },
        "language_info": {
            "codemirror_mode": {"name": "ipython", "version": 3},
            "file_extension": ".py",
            "mimetype": "text/x-python",
            "name": "python",
            "nbconvert_exporter": "python",
            "pygments_lexer": "ipython3",
            "version": "3.8.10"
        }
    },
    "nbformat": 4,
    "nbformat_minor": 4
}

# Save as a .ipynb file
notebook_path = "/mnt/data/azure_blob_to_snowflake.ipynb"
with open(notebook_path, "w") as f:
    json.dump(notebook_content, f)

notebook_path
