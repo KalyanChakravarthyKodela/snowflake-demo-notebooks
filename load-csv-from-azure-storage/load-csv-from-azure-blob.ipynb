
{
  "cells": [
    {
      "cell_type": "markdown",
      "metadata": {},
      "source": [
        "# Loading a CSV File from Azure Blob Storage into a Pandas DataFrame\n",
        "\n",
        "This notebook demonstrates how to read a CSV file stored in Azure Blob Storage directly into a Pandas DataFrame using the `azure-storage-blob` library."
      ]
    },
    {
      "cell_type": "code",
      "metadata": {},
      "source": [
        "# Install the azure-storage-blob library if not already installed\n",
        "!pip install azure-storage-blob pandas"
      ],
      "execution_count": null,
      "outputs": []
    },
    {
      "cell_type": "code",
      "metadata": {},
      "source": [
        "from azure.storage.blob import BlobServiceClient\n",
        "import pandas as pd\n",
        "from io import StringIO\n",
        "\n",
        "# Define your Azure Blob Storage credentials and parameters\n",
        "account_name = 'your_storage_account_name'\n",
        "account_key = 'your_storage_account_key'\n",
        "container_name = 'your_container_name'\n",
        "blob_name = 'your_blob_name.csv'\n",
        "\n",
        "# Create the BlobServiceClient object\n",
        "connection_string = f\"DefaultEndpointsProtocol=https;AccountName={account_name};AccountKey={account_key};EndpointSuffix=core.windows.net\"\n",
        "blob_service_client = BlobServiceClient.from_connection_string(connection_string)\n",
        "\n",
        "# Get a client to interact with the specified container\n",
        "container_client = blob_service_client.get_container_client(container_name)\n",
        "\n",
        "# Download the blob as a string\n",
        "blob_client = container_client.get_blob_client(blob_name)\n",
        "blob_data = blob_client.download_blob().content_as_text()\n",
        "\n",
        "# Use StringIO to read the CSV data into a Pandas DataFrame\n",
        "df = pd.read_csv(StringIO(blob_data))\n",
        "\n",
        "# Display the first few rows of the DataFrame\n",
        "df.head()"
      ],
      "execution_count": null,
      "outputs": []
    }
  ],
  "metadata": {
    "kernelspec": {
      "display_name": "Python 3",
      "language": "python",
      "name": "python3"
    },
    "language_info": {
      "name": "python",
      "version": "3.8.5"
    }
  },
  "nbformat": 4,
  "nbformat_minor": 5
}
