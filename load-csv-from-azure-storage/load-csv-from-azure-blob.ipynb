import nbformat as nbf

# Create a new Jupyter notebook
nb = nbf.v4.new_notebook()

# Define the notebook cells
cells = [
    nbf.v4.new_markdown_cell("# Loading CSV Files from Azure Blob Storage into Snowflake using Snowpark"),
    nbf.v4.new_code_cell("""
from snowflake.snowpark import Session
from snowflake.snowpark.functions import col
import json

connection_parameters = {
    "account": "<your_account_identifier>",
    "user": "<your_username>",
    "password": "<your_password>",
    "role": "<your_user_role>",
    "warehouse": "<your_warehouse>",
    "database": "<your_database>",
    "schema": "<your_schema>"
}

session = Session.builder.configs(connection_parameters).create()
session.query_tag = json.dumps({
    "origin": "sf_sit-is",
    "name": "notebook_demo_pack",
    "version": {"major": 1, "minor": 0},
    "attributes": {"is_quickstart": 1, "source": "notebook", "vignette": "csv_from_azure_blob"}
})

print(session)
"""),
    nbf.v4.new_markdown_cell("## Create External Stage in Snowflake"),
    nbf.v4.new_code_cell("""
CREATE OR REPLACE STAGE azure_stage
  URL = 'azure://<your_storage_account_name>.blob.core.windows.net/<your_container_name>'
  CREDENTIALS = (AZURE_SAS_TOKEN = '<your_sas_token>');
"""),
    nbf.v4.new_markdown_cell("## List Files in the External Stage"),
    nbf.v4.new_code_cell("LIST @azure_stage;"),
    nbf.v4.new_markdown_cell("## Load CSV Data into Snowpark DataFrame"),
    nbf.v4.new_code_cell("""
df = session.read.options({"infer_schema": True}).csv('@azure_stage/<your_csv_file_name>.csv')
df.show()
"""),
    nbf.v4.new_markdown_cell("## Perform Data Operations"),
    nbf.v4.new_code_cell("df.describe().show()"),
    nbf.v4.new_markdown_cell("## Write DataFrame to Snowflake Table"),
    nbf.v4.new_code_cell('df.write.mode("overwrite").save_as_table("APP_ORDER")'),
    nbf.v4.new_markdown_cell("## Query Table in Snowflake"),
    nbf.v4.new_code_cell("SELECT * FROM APP_ORDER;"),
    nbf.v4.new_markdown_cell("## Read Table into Snowpark DataFrame"),
    nbf.v4.new_code_cell("""
df = session.table("APP_ORDER")
df.show()
"""),
    nbf.v4.new_markdown_cell("## Cleanup Resources"),
    nbf.v4.new_code_cell("""
DROP TABLE APP_ORDER;
DROP STAGE azure_stage;
""")
]

# Add cells to the notebook
nb.cells.extend(cells)

# Save the notebook
notebook_path = "/mnt/data/azure_blob_to_snowflake.ipynb"
with open(notebook_path, "w") as f:
    nbf.write(nb, f)

notebook_path
