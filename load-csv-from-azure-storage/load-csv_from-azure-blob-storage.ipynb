{
  "cells": [
    {
      "cell_type": "markdown",
      "metadata": {},
      "source": [
        "# Loading a CSV File from Azure Blob Storage into a Pandas DataFrame\n",
        "\n",
        "This notebook demonstrates how to read a CSV file stored in Azure Blob Storage directly into a Pandas DataFrame using the `azure-storage-blob` library."
      ]
    },
    {
      "cell_type": "code",
      "metadata": {},
      "source": [
        "# Install necessary libraries\n",
        "!pip install azure-storage-blob pandas --quiet"
      ],
      "execution_count": null,
      "outputs": []
    },
    {
      "cell_type": "code",
      "metadata": {},
      "source": [
        "from azure.storage.blob import BlobServiceClient\n",
        "import pandas as pd\n",
        "from io import StringIO\n",
        "\n",
        "# Azure Blob Storage credentials\n",
        "ACCOUNT_NAME = 'your_storage_account_name'\n",
        "ACCOUNT_KEY = 'your_storage_account_key'\n",
        "CONTAINER_NAME = 'your_container_name'\n",
        "BLOB_NAME = 'your_blob_name.csv'\n",
        "\n",
        "# Connection string\n",
        "CONNECTION_STRING = f\"DefaultEndpointsProtocol=https;AccountName={ACCOUNT_NAME};AccountKey={ACCOUNT_KEY};EndpointSuffix=core.windows.net\"\n",
        "\n",
        "try:\n",
        "    # Create the BlobServiceClient\n",
        "    blob_service_client = BlobServiceClient.from_connection_string(CONNECTION_STRING)\n",
        "    \n",
        "    # Get a client to interact with the container\n",
        "    container_client = blob_service_client.get_container_client(CONTAINER_NAME)\n",
        "    \n",
        "    # Download the blob data\n",
        "    blob_client = container_client.get_blob_client(BLOB_NAME)\n",
        "    blob_data = blob_client.download_blob().content_as_text()\n",
        "    \n",
        "    # Load into a Pandas DataFrame\n",
        "    df = pd.read_csv(StringIO(blob_data))\n",
        "    \n",
        "    # Display DataFrame\n",
        "    display(df.head())\n",
        "\n",
        "except Exception as e:\n",
        "    print(f\"Error: {e}\")"
      ],
      "execution_count": null,
      "outputs": []
    }
  ],
  "metadata": {
    "kernelspec": {
      "display_name": "Python 3",
      "language": "python",
      "name": "python3"
    },
    "language_info": {
      "name": "python",
      "version": "3.8.5"
    }
  },
  "nbformat": 4,
  "nbformat_minor": 5
}
