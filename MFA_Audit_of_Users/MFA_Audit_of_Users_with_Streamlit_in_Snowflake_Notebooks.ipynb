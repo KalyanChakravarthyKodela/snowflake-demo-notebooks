{
 "metadata": {
  "kernelspec": {
   "display_name": "Streamlit Notebook",
   "name": "streamlit"
  }
 },
 "nbformat_minor": 5,
 "nbformat": 4,
 "cells": [
  {
   "cell_type": "markdown",
   "id": "58f07122-7266-4d3a-b16c-7497a5b9af6b",
   "metadata": {
    "name": "md_title",
    "collapsed": false
   },
   "source": "# MFA Audit of Users with Streamlit in Snowflake Notebooks 📓\n\nEver wondered which of your users have MFA enabled and for those who have not, we can retrieve a list of those users and have it delivered straight to your email inbox. \n\nConceptually, we'll perform the following tasks in this notebook:\n- Generate an artificial user dataset\n- Craft a query to display a DataFrame consisting of user ID, email and MFA status\n- Create a conditional button that emails a system administrator a formatted table specifying which users who do not have MFA enabled"
  },
  {
   "cell_type": "markdown",
   "id": "e39d1548-a594-4969-b309-278de2d59286",
   "metadata": {
    "name": "md_data",
    "collapsed": false
   },
   "source": "## Retrieve and Display of User Dataset \n\nIn this notebook, we'll use an artificially generated [user dataset](https://github.com/Snowflake-Labs/snowflake-demo-notebooks/blob/main/MFA_Audit_of_Users/demo_data.csv), from which we'll retrieve a subset of columns to display (e.g. `USER_ID`, `LOGIN_NAME`, `EMAIL` and `HAS_MFA`).\n\nFirstly, we'll upload the [user dataset](https://github.com/Snowflake-Labs/snowflake-demo-notebooks/blob/main/MFA_Audit_of_Users/demo_data.csv) to Snowflake by clicking on `+` --> `Table` --> `From File` (left sidebar menu) and create a table called `CHANINN_DEMO_DATA.PUBLIC.MFA_DATA`.\n\nSecondly, we'll use the following SQL query to retrieve and display the user dataset. Particularly, we're displaying a subset of the data where `HAS_MFA` is `FALSE`, which translates to users who do not have MFA activated."
  },
  {
   "cell_type": "code",
   "id": "7d04f2d8-b23f-4080-a055-664020313ef7",
   "metadata": {
    "language": "sql",
    "name": "sql_data",
    "codeCollapsed": false,
    "collapsed": false
   },
   "outputs": [],
   "source": "SELECT USER_ID, LOGIN_NAME, EMAIL, HAS_MFA\nFROM CHANINN_DEMO_DATA.PUBLIC.MFA_DATA\nWHERE HAS_MFA = 'FALSE'",
   "execution_count": null
  },
  {
   "cell_type": "markdown",
   "id": "6fb82512-dbdc-4c49-a8e1-e00dde00bc88",
   "metadata": {
    "name": "md_notification",
    "collapsed": false
   },
   "source": "## Creating a Notification Integration\n\nA notification integration is a Snowflake object that provides an interface between Snowflake and third-party messaging services (*e.g.* third-party cloud message queuing services, email services, webhooks, etc.). \n\nIn a nutshell, this allows us to perform the necessary setup for sending an email notification that we'll do in the subsequent phase of this notebook."
  },
  {
   "cell_type": "code",
   "id": "6f5a9241-8bd3-4362-8c30-0bb779dbe002",
   "metadata": {
    "language": "sql",
    "name": "sql_notification",
    "collapsed": false
   },
   "outputs": [],
   "source": "CREATE OR REPLACE NOTIFICATION INTEGRATION my_email_int\n  TYPE=EMAIL\n  ENABLED=TRUE\n;",
   "execution_count": null
  },
  {
   "cell_type": "markdown",
   "id": "f6600f3e-84fd-48bf-a1a7-65634b08fab2",
   "metadata": {
    "name": "md_test_message",
    "collapsed": false
   },
   "source": "## Sending a Test Message\n\nHere, we'll send a simple test notification using the `CALL SYSTEM$SEND_EMAIL()` stored procedure.\n\nNote: Please replace `your-name@email-address.com` with your email address."
  },
  {
   "cell_type": "code",
   "id": "d4efd3cb-0a0d-4645-92f9-6cdbc0bba685",
   "metadata": {
    "language": "sql",
    "name": "sql_test_message",
    "collapsed": false,
    "codeCollapsed": false
   },
   "outputs": [],
   "source": "CALL SYSTEM$SEND_EMAIL(\n    'my_email_int',\n    'your-name@email-address.com',\n    'Email subject goes here',\n    'Hello world! This is a test message!'\n);",
   "execution_count": null
  },
  {
   "cell_type": "markdown",
   "id": "e3d931e7-5840-4e11-b281-4c2c58f2eeae",
   "metadata": {
    "name": "md_send_mfa",
    "collapsed": false
   },
   "source": "## Interactively Send MFA Status\n\nIn this simple example, we'll collate a table of users who has not activated their MFA then emailing this to a system administrator (*i.e.* you or an actual system administrator).\n\nWe'll make this interactive by placing a button (via `st.button()`) as a conditional trigger that runs downstream code upon a user clicking on them.\n\nFinally, the SQL command, `SYSTEM$SEND_EMAIL` is run to send an email notification that is essentially a table of users who has not activated MFA.\n\nNote: Please replace `your-name@email-address.com` with your email address."
  },
  {
   "cell_type": "code",
   "id": "337becd5-ed50-4c75-b27b-6c59aa74113e",
   "metadata": {
    "language": "python",
    "name": "py_send_mfa"
   },
   "outputs": [],
   "source": "from snowflake.snowpark.context import get_active_session\nimport streamlit as st\n\nsession = get_active_session()\n\n# DataFrame of users and their MFA status\nst.header('MFA activation status')\n\nmfa_selection = st.selectbox('Select an MFA status:', ('All', 'MFA Activated', 'MFA Not Activated'))\nif mfa_selection == 'All':\n    df = session.sql(\n              \"\"\"SELECT USER_ID, LOGIN_NAME, EMAIL, HAS_MFA \n                    FROM CHANINN_DEMO_DATA.PUBLIC.MFA_DATA\"\"\"\n            ).to_pandas()\n    paragraph = \"<p>Here's the Multi-Factor Authentication status of all users. Please refer users to the <a href='https://docs.snowflake.com/en/user-guide/security-mfa'>Docs page on MFA</a> to activate MFA.</p>\"\nif mfa_selection == 'MFA Activated':\n    df = session.sql(\n              \"SELECT USER_ID, LOGIN_NAME, EMAIL, HAS_MFA FROM CHANINN_DEMO_DATA.PUBLIC.MFA_DATA WHERE HAS_MFA = 'TRUE'\"\n            ).to_pandas()\n    paragraph = \"<p>Congratulations, these users have activated their Multi-Factor Authentication!</p>\"\nif mfa_selection == 'MFA Not Activated':\n    df = session.sql(\n              \"SELECT USER_ID, LOGIN_NAME, EMAIL, HAS_MFA FROM CHANINN_DEMO_DATA.PUBLIC.MFA_DATA WHERE HAS_MFA = 'FALSE'\"\n            ).to_pandas()\n    paragraph = \"<p>It appears that the following users have not activated Multi-Factor Authentication. Please refer users to the <a href='https://docs.snowflake.com/en/user-guide/security-mfa'>Docs page on MFA</a> to activate MFA.</p>\"\nst.dataframe(df)\n\n# Send Email\nif st.button('Send Report'):\n    email= 'your-name@email-address.com'\n    email_subject = \"Important: Activate Multi-Factor Authentication for User's Account\"\n    header = '<p>Dear System Administrator,</p>'\n    body = header + '\\n' + paragraph + '\\n' + df.to_html(index=False, justify='left')\n\n    session.call('SYSTEM$SEND_EMAIL',\n                             'my_email_int',\n                              email,\n                              email_subject,\n                              body,\n                             'text/html')\n    st.success('Report sent!', icon='✅')",
   "execution_count": null
  },
  {
   "cell_type": "markdown",
   "id": "972b8755-021f-48ae-8c7f-c228610b4b3f",
   "metadata": {
    "name": "md_resources",
    "collapsed": false
   },
   "source": "## Resources\nIf you'd like to take a deeper dive into customizing the notebook, here are some useful resources to get you started.\n- [Multi-factor authentication (MFA)](https://docs.snowflake.com/en/user-guide/security-mfa)\n- [Sending email notifications](https://docs.snowflake.com/en/user-guide/notifications/email-notifications)\n- [SYSTEM$SEND_EMAIL](https://docs.snowflake.com/en/sql-reference/stored-procedures/system_send_email)\n- [Using SYSTEM$SEND_EMAIL to send email notifications](https://docs.snowflake.com/en/user-guide/notifications/email-stored-procedures)"
  }
 ]
}
