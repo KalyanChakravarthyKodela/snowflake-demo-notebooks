{
 "metadata": {
  "kernelspec": {
   "display_name": "Streamlit Notebook",
   "name": "streamlit"
  },
  "lastEditStatus": {
   "notebookId": "7rpm6lxftnqo2r7bqwsp",
   "authorId": "6841714608330",
   "authorName": "CHANINN",
   "authorEmail": "chanin.nantasenamat@snowflake.com",
   "sessionId": "6c69bcea-e09a-4f87-a91d-99ff6aecc8bf",
   "lastEditTime": 1741649071648
  }
 },
 "nbformat_minor": 5,
 "nbformat": 4,
 "cells": [
  {
   "cell_type": "markdown",
   "id": "407331eb-29af-42a3-976c-43e3652cd685",
   "metadata": {
    "name": "md_title",
    "collapsed": false
   },
   "source": "# Build a Bioinformatics Solubility Dashboard in Snowflake\n\nIn this notebook, you'll build a **bioinformatics project** from scratch in Snowflake. \n\nBriefly, we're using the *Delaney* solubility data set. Solubility is an important property for successful drug discovery efforts and is amongst one of the key metrics used in defining drug-like molecules according to the Lipinski Rule of 5.\n\nIn a nutshell, here's what you're building:\n- Load data into Snowflake\n- Perform data preparation using Pandas\n- Build a simple dashboard with Streamlit\n"
  },
  {
   "cell_type": "markdown",
   "id": "121d2db7-d366-4363-a464-fadf2ffbb1dc",
   "metadata": {
    "name": "md_solubility",
    "collapsed": false
   },
   "source": "## About molecular solubility\n\nMolecular solubility is a crucial property in drug development that affects whether a drug can reach its target in the human body. Let me explain why it matters in simple terms.\n\n### Solubility\nSolubility is a molecule's ability to dissolve in a liquid, which literally means the ability to dissolve in human bloodstream and transport to its desired target in the human body. If it can dissolve, it can't work!\n\nPoorly soluble drugs might require higher doses or special formulations, leading to potential side effects or complicated treatment regimens. So we want drugs that are both effective and yet soluble so that fewer of it is required so as to minimize potential side effects.\n\n### Lipinski's Rule of 5\nDrug development often refer to a guidelines known as the Lipinski's Rule of 5 to predict whether a molecule will be soluble enough to make a good oral drug. This includes factors like:\n- Molecule's size\n- How water-loving or water-repelling it is\n- Number of hydrogen bond donors and acceptors\n\nUnderstanding and optimizing solubility helps pharmaceutical companies develop effective medicines that can be easily administered and work efficiently in the body."
  },
  {
   "cell_type": "markdown",
   "id": "3a2a4205-5392-4730-8495-93fea5c1602f",
   "metadata": {
    "name": "md_data",
    "collapsed": false
   },
   "source": "## Load data\n\nHere, we're loading the Delaney data set ([reference](https://pubs.acs.org/doi/10.1021/ci034243x))."
  },
  {
   "cell_type": "code",
   "id": "92528066-a158-4733-8747-a2915c832c58",
   "metadata": {
    "language": "sql",
    "name": "sql_data"
   },
   "outputs": [],
   "source": "SELECT * FROM CHANINN_DEMO_DATA.PUBLIC.SOLUBILITY",
   "execution_count": null
  },
  {
   "cell_type": "markdown",
   "id": "32b8bb10-45e2-4c81-8953-b4af097fe619",
   "metadata": {
    "name": "md_to_pandas",
    "collapsed": false
   },
   "source": "## Convert SQL output to Pandas DataFrame\n\nWe're using `to_pandas()` method to convert our SQL output table to a Pandas DataFrame."
  },
  {
   "cell_type": "code",
   "id": "24aef3fd-6815-4874-a712-d7ab940660f7",
   "metadata": {
    "language": "python",
    "name": "df",
    "codeCollapsed": false
   },
   "outputs": [],
   "source": "sql_data.to_pandas()",
   "execution_count": null
  },
  {
   "cell_type": "markdown",
   "id": "126ab616-c4bc-484a-9d44-833b0bf26143",
   "metadata": {
    "name": "md_class",
    "collapsed": false
   },
   "source": "## Data Aggregation\n\nHere, we're aggregating the data (grouping it) by its molecular weight:\n- `small` if <300\n- `large` if >= 300"
  },
  {
   "cell_type": "code",
   "id": "ab0fb5ec-3cf1-45d6-872c-d92691cb9d9d",
   "metadata": {
    "language": "python",
    "name": "py_class",
    "codeCollapsed": false
   },
   "outputs": [],
   "source": "df['MOLWT_CLASS'] = pd.Series(['small' if x < 300 else 'large' for x in df['MOLWT']])\ndf_class = df.groupby('MOLWT_CLASS').mean().reset_index()\ndf_class",
   "execution_count": null
  },
  {
   "cell_type": "markdown",
   "id": "dd9543d3-31b7-4c54-9bde-530c42e36a90",
   "metadata": {
    "name": "md_app",
    "collapsed": false
   },
   "source": "## Building the Solubility Dashboard"
  },
  {
   "cell_type": "code",
   "id": "89a6c1ff-71e9-4c2f-be2b-6d14879ddd00",
   "metadata": {
    "language": "python",
    "name": "py_app",
    "codeCollapsed": false
   },
   "outputs": [],
   "source": "import streamlit as st\n\nst.title('☘️ Solubility Dashboard')\n\n# Data Filtering\nmol_size = st.slider('Select a value', 100, 500, 300)\ndf['MOLWT_CLASS'] = pd.Series(['small' if x < mol_size else 'large' for x in df['MOLWT']])\ndf_class = df.groupby('MOLWT_CLASS').mean().reset_index()\n\nst.divider()\n\n# Calculate Metrics\nmolwt_large = round(df_class['MOLWT'][0], 2)\nmolwt_small = round(df_class['MOLWT'][1], 2)\nnumrotatablebonds_large = round(df_class['NUMROTATABLEBONDS'][0], 2)\nnumrotatablebonds_small = round(df_class['NUMROTATABLEBONDS'][1], 2)\nmollogp_large = round(df_class['MOLLOGP'][0], 2)\nmollogp_small = round(df_class['MOLLOGP'][1], 2)\naromaticproportion_large = round(df_class['AROMATICPROPORTION'][0], 2)\naromaticproportion_small = round(df_class['AROMATICPROPORTION'][1], 2)\n\n# Data metrics and visualizations\ncol = st.columns(2)\nwith col[0]:\n    st.subheader('Molecular Weight')\n    st.metric('Large', molwt_large)\n    st.metric('Small', molwt_small)\n    st.bar_chart(df_class, x='MOLWT_CLASS', y='MOLWT', color='MOLWT_CLASS')\n\n    st.subheader('Number of Rotatable Bonds')\n    st.metric('Large', numrotatablebonds_large)\n    st.metric('Small', numrotatablebonds_small)\n    st.bar_chart(df_class, x='MOLWT_CLASS', y='NUMROTATABLEBONDS', color='MOLWT_CLASS')\nwith col[1]:\n    st.subheader('Molecular LogP')\n    st.metric('Large', mollogp_large)\n    st.metric('Small', mollogp_small)\n    st.bar_chart(df_class, x='MOLWT_CLASS', y='MOLLOGP', color='MOLWT_CLASS')\n\n    st.subheader('Aromatic Proportion')\n    st.metric('Large', mollogp_large)\n    st.metric('Small', mollogp_small)\n    st.bar_chart(df_class, x='MOLWT_CLASS', y='AROMATICPROPORTION', color='MOLWT_CLASS')\n\nwith st.expander('Show Original DataFrame'):\n    st.dataframe(df)\nwith st.expander('Show Aggregated DataFrame'):\n    st.dataframe(df_class)",
   "execution_count": null
  },
  {
   "cell_type": "markdown",
   "id": "81a409e7-7219-4c20-9276-f3b27e0b8ea4",
   "metadata": {
    "name": "md_reference",
    "collapsed": false
   },
   "source": "## References\n\n- [ESOL:  Estimating Aqueous Solubility Directly from Molecular Structure](https://pubs.acs.org/doi/10.1021/ci034243x)\n- [st.bar_chart](https://docs.streamlit.io/develop/api-reference/charts/st.bar_chart)\n- [st.expander](https://docs.streamlit.io/develop/api-reference/layout/st.expander)\n- [st.slider](https://docs.streamlit.io/develop/api-reference/widgets/st.slider)"
  }
 ]
}