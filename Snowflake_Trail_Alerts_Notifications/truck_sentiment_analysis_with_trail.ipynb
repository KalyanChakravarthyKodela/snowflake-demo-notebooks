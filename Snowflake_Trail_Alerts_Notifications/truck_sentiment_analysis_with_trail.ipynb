{
 "metadata": {
  "language_info": {
   "name": "python"
  }
 },
 "nbformat_minor": 2,
 "nbformat": 4,
 "cells": [
  {
   "cell_type": "markdown",
   "metadata": {
    "name": "md_intro",
    "resultHeight": 547,
    "collapsed": false
   },
   "source": "# Snowflake Trail for Observability\n[Snowflake Trail](https://www.snowflake.com/en/data-cloud/snowflake-trail/) is a set of Snowflake capabilities that enables developers to better monitor, troubleshoot, debug, and take actions on pipelines, applications, user code, and compute utilization.\n\n## Truck Analysis\nIn this demo, we'll explore how to add observability - traces, logs, and alerts for a simple Truck Reviews sentiment analysis use case. We'll integrate [Slack Webhook](https://api.slack.com/messaging/webhooks) to deliver notifications to a Slack channel.\n\nBy the end of this demo, you will understand:\n- How to enable Telemetry in your Snowflake account\n- What the various object levels are at which Telemetry can be set\n- How to define Serverless Alerts\n- How to integrate Slack notifications via Webhooks\n\n>**IMPORTANT**\n>\n>Before getting started, make sure you have access to a Slack workspace where you can add a webhook integration\n",
   "id": "ce110000-1111-2222-3333-ffffff000000"
  },
  {
   "cell_type": "code",
   "id": "7da07c23-e866-4858-be9a-6ac57afc578e",
   "metadata": {
    "language": "sql",
    "name": "sql_currents",
    "collapsed": false,
    "resultHeight": 111
   },
   "outputs": [],
   "source": "SELECT current_role() as current_role",
   "execution_count": null
  },
  {
   "cell_type": "code",
   "id": "2ab7d0b2-52e4-4079-a777-6708ada8255a",
   "metadata": {
    "language": "python",
    "name": "imports",
    "collapsed": false,
    "resultHeight": 0
   },
   "outputs": [],
   "source": "import streamlit as st",
   "execution_count": null
  },
  {
   "cell_type": "markdown",
   "id": "044cbada-d1e6-416d-bcaf-e6bf8f116ca4",
   "metadata": {
    "name": "cell2",
    "collapsed": false,
    "resultHeight": 102
   },
   "source": "## Object Names\nLet us define variables that will hold the various object and resource names used throughout this demo."
  },
  {
   "cell_type": "code",
   "id": "ec1e66cb-72b4-4767-971f-8c0e28cb3ea7",
   "metadata": {
    "language": "python",
    "name": "variables",
    "collapsed": false,
    "resultHeight": 41
   },
   "outputs": [],
   "source": "__current_role=sql_currents.to_pandas().iloc[0]['CURRENT_ROLE']\n__current_role\n__database = \"kamesh_build_24_demos\"\n__analytics_schema = \"analytics\"\n__data_schema = \"data\"\n__stages_schema = \"stages\"\n__src_schema = \"src\"\n__task_schema = \"tasks\"\n__alerts_schema = \"alerts_and_notifications\"\n__telemetry_schema = \"telemetry\"\n__warehouse = \"kamesh_snowpark_demo_wh\"\n__task_name = \"truck_sentiment\"",
   "execution_count": null
  },
  {
   "cell_type": "markdown",
   "id": "21cd8327-b1c9-4661-8ce2-4c9b79bdf30b",
   "metadata": {
    "name": "cell3",
    "collapsed": false,
    "resultHeight": 201
   },
   "source": "## Database Setup\nIn the following steps, we will:\n- Create necessary Snowflake objects and resources\n- Ingest data required for truck sentiment analysis\n- Set up alert triggers for Slack channel notifications"
  },
  {
   "cell_type": "code",
   "id": "171f227f-a22f-4a86-9b6f-a3db86658db3",
   "metadata": {
    "language": "sql",
    "name": "sql_context",
    "collapsed": false,
    "resultHeight": 111
   },
   "outputs": [],
   "source": "CREATE DATABASE IF NOT EXISTS {{__database}};\nUSE DATABASE {{__database}};",
   "execution_count": null
  },
  {
   "cell_type": "markdown",
   "id": "d76b3281-8186-4433-bb4c-bda4f4c227a5",
   "metadata": {
    "name": "cell4",
    "collapsed": false,
    "resultHeight": 311
   },
   "source": "Let us create schemas to group our various objects.\n\n| Schema Name | Purpose |\n| :----: | :---- |\n| analytics | Holds the analytical data |\n| stages | Holds all internal and external stages |\n| src | Holds the sources of the UDFs and Stored Procedures |\n| task | Holds all Tasks used in this demo |\n| alerts | Holds all Alert definitions |\n| telemetry | Holds database-level event table |\n"
  },
  {
   "cell_type": "code",
   "id": "e629dabf-6b9c-4f06-aab0-e42b47a8e092",
   "metadata": {
    "language": "sql",
    "name": "create_schemas",
    "collapsed": false,
    "resultHeight": 438
   },
   "outputs": [],
   "source": "CREATE SCHEMA IF NOT EXISTS {{__analytics_schema}};\nCREATE SCHEMA IF NOT EXISTS {{__data_schema}};\nCREATE SCHEMA IF NOT EXISTS {{__stages_schema}};\nCREATE SCHEMA IF NOT EXISTS {{__src_schema}};\nCREATE SCHEMA IF NOT EXISTS {{__task_schema}};\nCREATE SCHEMA IF NOT EXISTS {{__alerts_schema}};\nCREATE SCHEMA IF NOT EXISTS {{__telemetry_schema}};\n\nSHOW SCHEMAS in database {{__database}};",
   "execution_count": null
  },
  {
   "cell_type": "markdown",
   "id": "83574809-7ffb-4549-86d5-2148c05b6f27",
   "metadata": {
    "name": "md_data_load",
    "collapsed": false,
    "resultHeight": 128
   },
   "source": "## Load Truck Data\nThe demo uses truck data from Tasty Bytes. Please ensure that you load the data from `data_load.sql` script into your `__database`. The SQL objects and other related data definitions are available [here](https://github.com/Snowflake-Labs/build24-trail-demo/tree/main/scripts)."
  },
  {
   "cell_type": "code",
   "id": "6bed04c3-22e5-40eb-9c8a-dcab48b819be",
   "metadata": {
    "language": "sql",
    "name": "sql_load_truck_data",
    "collapsed": false,
    "resultHeight": 111
   },
   "outputs": [],
   "source": "CREATE API INTEGRATION if not exists git_api_integration\n  API_PROVIDER = git_https_api\n  API_ALLOWED_PREFIXES = ('https://github.com/snowflake-labs')\n  ENABLED = TRUE;\n\nCREATE OR REPLACE GIT REPOSITORY {{__database}}.{{__data_schema}}.build24_trail_demo\n  API_INTEGRATION = git_api_integration\n  ORIGIN = 'https://github.com/snowflake-labs/build24-trail-demo';",
   "execution_count": null
  },
  {
   "cell_type": "markdown",
   "id": "73bc1cb3-3aae-4a00-b587-2a4e392903d8",
   "metadata": {
    "name": "cell6",
    "collapsed": false,
    "resultHeight": 41
   },
   "source": "Let's refresh the repository and pull the latest changes."
  },
  {
   "cell_type": "code",
   "id": "4dfb5ee5-d482-4d0f-a53e-a703fee0568e",
   "metadata": {
    "language": "sql",
    "name": "sql_list_main_branch_scripts_files",
    "collapsed": false,
    "resultHeight": 251,
    "codeCollapsed": false
   },
   "outputs": [],
   "source": "ALTER git repository {{__database}}.{{__data_schema}}.build24_trail_demo fetch;\nls @{{__database}}.{{__data_schema}}.build24_trail_demo/branches/main/scripts;",
   "execution_count": null
  },
  {
   "cell_type": "markdown",
   "id": "898c1aac-6615-4f7c-a6a0-c264609c91e6",
   "metadata": {
    "name": "cell7",
    "collapsed": false,
    "resultHeight": 41
   },
   "source": "Let's run the script to create the database objects and ingest the data."
  },
  {
   "cell_type": "code",
   "id": "609b16ff-03f2-48f4-960d-6f9b5844a6bf",
   "metadata": {
    "language": "sql",
    "name": "sql_load_data",
    "collapsed": false,
    "resultHeight": 111
   },
   "outputs": [],
   "source": "EXECUTE IMMEDIATE FROM @{{__database}}.{{__data_schema}}.build24_trail_demo/branches/main/scripts/data_setup.j2.sql \nUSING ( demo_role => '{{__current_role}}', demo_database => '{{__database}}' );",
   "execution_count": null
  },
  {
   "cell_type": "code",
   "id": "00c11a4f-4455-4ff0-9b82-77c2b62922b1",
   "metadata": {
    "language": "python",
    "name": "py_snowpark_session",
    "collapsed": false,
    "resultHeight": 0
   },
   "outputs": [],
   "source": "from snowflake.snowpark.context import get_active_session\nfrom snowflake.core import CreateMode, Root\nfrom snowflake.core.schema import Schema\nfrom snowflake.core.database import Database\n\nsession = get_active_session()\nroot = Root(session)\n",
   "execution_count": null
  },
  {
   "cell_type": "markdown",
   "id": "b7c1897c-8a03-4861-a287-059db25af975",
   "metadata": {
    "name": "md_udf_classify_sentiment",
    "collapsed": false,
    "resultHeight": 128
   },
   "source": "## UDF Sentiment Class\nA Python UDF that converts Snowflake Cortex sentiment scores into textual sentiment classifications: `negative`, `neutral`, or `positive`."
  },
  {
   "cell_type": "code",
   "id": "8ee3f3d7-9134-4cc2-aff4-750cbeb903db",
   "metadata": {
    "language": "python",
    "name": "udf_src_stage",
    "collapsed": false,
    "resultHeight": 0
   },
   "outputs": [],
   "source": "from snowflake.core.stage import Stage\n\n__udf_stage_name = \"udfs\"\n__udf_stage = Stage(name=__udf_stage_name)\n_ = root.databases[__database].schemas[__src_schema].stages.create(\n    __udf_stage,\n    mode=CreateMode.if_not_exists,\n)",
   "execution_count": null
  },
  {
   "cell_type": "code",
   "id": "68218028-9fa1-4ff5-8883-c73ffb53bdcf",
   "metadata": {
    "language": "python",
    "name": "udf_classify_sentiment",
    "collapsed": false,
    "resultHeight": 0
   },
   "outputs": [],
   "source": "from snowflake.snowpark.functions import udf\n\n@udf(\n    name=f\"{__database}.{__data_schema}.classify_sentiment\",\n    is_permanent=True,\n    packages=[\"snowflake-telemetry-python\"],\n    stage_location=f\"{__database}.{__src_schema}.{__udf_stage_name}\",\n    replace=True,\n)\ndef classify_sentiment(sentiment_score: float) -> str:\n    \"\"\"Classify sentiment as positive,neutral or negative based on the score.\"\"\"\n    import logging\n\n    import snowflake.telemetry as telemetry\n\n    logging.info(\"Classifying sentiment score\")\n\n    telemetry.set_span_attribute(\"processing\", \"classify_sentiment\")\n    logging.debug(f\"Classifying sentiment score {sentiment_score:.2f}\")\n\n    if sentiment_score < -0.5:\n        logging.debug(f\"Sentiment {sentiment_score:.2f} is negative\")\n        return \"negative\"\n    elif sentiment_score >= 0.5 and sentiment_score <= 1.0:\n        logging.debug(f\"Sentiment {sentiment_score:.2f} is positive\")\n        return \"positive\"\n    else:\n        logging.debug(f\"Sentiment {sentiment_score:.2f} is neutral\")\n        return \"netural\"",
   "execution_count": null
  },
  {
   "cell_type": "markdown",
   "id": "7725e882-cbdf-453a-8d5d-910683c2495d",
   "metadata": {
    "name": "md_stored_proc_truck_review_sentiments",
    "collapsed": false,
    "resultHeight": 128
   },
   "source": "## Stored Procedure `truck_review_sentiments`\nThe stored procedure builds the `truck_review_sentiments` table and uses the `sentiment_class` UDF to categorize sentiments into text classifications."
  },
  {
   "cell_type": "code",
   "id": "30d66652-1671-415b-bd42-176c98f99f32",
   "metadata": {
    "language": "python",
    "name": "sp_build_truck_review_sentiments",
    "collapsed": false,
    "resultHeight": 0
   },
   "outputs": [],
   "source": "# stage to hold the stored procedure sources\nfrom snowflake.snowpark.functions import sproc\nfrom snowflake.snowpark.session import Session\nfrom snowflake.core.stage import Stage\n\n__pros_stage_name = \"procs\"\n__procs_stage = Stage(name=__pros_stage_name)\n_ = (\n    root.databases[__database]\n    .schemas[__src_schema]\n    .stages.create(\n        __procs_stage,\n        mode=CreateMode.if_not_exists,\n    )\n)\n\n@sproc(\n    name=f\"{__database}.{__data_schema}.build_truck_review_sentiments\",\n    replace=True,\n    is_permanent=True,\n    packages=[\n        \"snowflake-telemetry-python\",\n        \"snowflake-ml-python\",\n    ],\n    stage_location=f\"{__database}.{__src_schema}.{__procs_stage.name}\",\n    source_code_display=True,\n    comment=\"Build the build_truck_review_sentiments table. This procedure will be called from a Task.\",\n)\ndef build_truck_review_sentiments(session: Session) -> None:\n    \"\"\"Build the Truck Review Sentiments table.\"\"\"\n    import logging\n\n    import snowflake.cortex as cortex\n    import snowflake.snowpark.functions as F\n    import snowflake.telemetry as telemetry\n    from snowflake.snowpark.types import DecimalType\n\n    logging.debug(\"START::Truck Review Sentiments\")\n    telemetry.set_span_attribute(\"executing\", \"build_truck_review_sentiments\")\n\n    try:\n        telemetry.set_span_attribute(\"building\", \"truck_reviews\")\n        review_df = (\n            session.table(f\"{__database}.{__analytics_schema}.truck_reviews_v\")\n            .select(\n                F.col(\"TRUCK_ID\"),\n                F.col(\"REVIEW\"),\n            )\n            .filter(F.year(F.col(\"DATE\")) == 2024)\n        )\n        telemetry.set_span_attribute(\"building\", \"add_sentiment_score\")\n        review_sentiment_score_df = review_df.withColumn(\n            \"SENTIMENT_SCORE\",\n            cortex.Sentiment(F.col(\"REVIEW\")).cast(DecimalType(2, 2)),\n        )\n        telemetry.set_span_attribute(\"building\", \"add_sentiment_class\")\n        review_sentiment_class_df = review_sentiment_score_df.withColumn(\n            \"SENTIMENT_CLASS\",\n            classify_sentiment(\n                F.col(\"SENTIMENT_SCORE\"),\n            ),\n        )\n        logging.debug(review_sentiment_score_df.show(5))\n        __table = f\"{__database}.{__data_schema}.truck_review_sentiments\"\n        telemetry.set_span_attribute(\"save\", f\"save_to_{__table}\")\n        review_sentiment_class_df.write.mode(\"overwrite\").save_as_table(__table)\n    except Exception as e:\n        logging.error(f\"Error building truck_review_sentiments,{e}\", exc_info=True)\n\n    logging.debug(\"END::Truck Review Sentiments Complete\")\n",
   "execution_count": null
  },
  {
   "cell_type": "markdown",
   "id": "7c331022-6549-4328-97b6-b4e9b6edb977",
   "metadata": {
    "name": "md_telemetry_settings",
    "collapsed": false,
    "resultHeight": 154
   },
   "source": "## Telemetry Settings\nIn the following steps, we will set up Telemetry Events (logs/traces) at the database level. While Snowflake defaults to storing events in `SNOWFLAKE.TELEMETRY.EVENTS`, for this demo we will configure event collection at the database level."
  },
  {
   "cell_type": "code",
   "id": "fda3d506-3439-4447-94c5-be7f0d43aaf2",
   "metadata": {
    "language": "sql",
    "name": "sql_check_current_telementry_settings",
    "collapsed": false,
    "resultHeight": 111
   },
   "outputs": [],
   "source": "-- check the current event_table\nSHOW PARAMETERS LIKE 'event_table' IN DATABASE {{__database}};",
   "execution_count": null
  },
  {
   "cell_type": "markdown",
   "id": "cc595e6e-6045-4100-af79-a292909c37f6",
   "metadata": {
    "name": "cell8",
    "collapsed": false,
    "resultHeight": 41
   },
   "source": "Create the event table at the database level and set it as the default Events table for the database."
  },
  {
   "cell_type": "code",
   "id": "be2b0ff5-3148-4219-adf8-e499b3eb5d52",
   "metadata": {
    "language": "sql",
    "name": "sql_setup_telemetry",
    "collapsed": false,
    "resultHeight": 111,
    "codeCollapsed": false
   },
   "outputs": [],
   "source": "-- create event table \nCREATE EVENT TABLE IF NOT EXISTS {{__database}}.{{__telemetry_schema}}.events;\n-- set to new event table\nALTER DATABASE {{__database}} SET EVENT_TABLE = {{__database}}.{{__telemetry_schema}}.events;",
   "execution_count": null
  },
  {
   "cell_type": "markdown",
   "id": "70dcee7b-af96-4498-b26b-d30fb29d6a49",
   "metadata": {
    "name": "cell9",
    "collapsed": false,
    "resultHeight": 41
   },
   "source": "In the following cells, we will examine the parameters for logs, traces, and metrics in the demo database."
  },
  {
   "cell_type": "code",
   "id": "126ccb24-978c-4859-badc-c2bb99a2d54e",
   "metadata": {
    "language": "sql",
    "name": "sql_current_log_level",
    "collapsed": false,
    "resultHeight": 0
   },
   "outputs": [],
   "source": "SHOW PARAMETERS LIKE 'LOG_LEVEL' IN DATABASE {{__database}};",
   "execution_count": null
  },
  {
   "cell_type": "code",
   "id": "208d9160-e64e-4604-88d7-2a0dd981ecaa",
   "metadata": {
    "language": "sql",
    "name": "sql_current_trace_level",
    "collapsed": false,
    "resultHeight": 0
   },
   "outputs": [],
   "source": "SHOW PARAMETERS LIKE 'TRACE_LEVEL' IN DATABASE {{__database}};",
   "execution_count": null
  },
  {
   "cell_type": "code",
   "id": "43699fa7-9a2e-4a7e-85c1-51c7b9f84940",
   "metadata": {
    "language": "sql",
    "name": "sql_current_metric_level",
    "collapsed": false,
    "resultHeight": 0
   },
   "outputs": [],
   "source": "SHOW PARAMETERS LIKE 'METRIC_LEVEL' IN DATABASE {{__database}};",
   "execution_count": null
  },
  {
   "cell_type": "markdown",
   "id": "3ac7ae23-5db5-4b27-b1ec-b2eda710641a",
   "metadata": {
    "name": "cell10",
    "collapsed": false,
    "resultHeight": 67
   },
   "source": "Alter the demo database to set the logging level to DEBUG, trace level to ALWAYS, and metrics collection level to ALL"
  },
  {
   "cell_type": "code",
   "id": "c3a07e2d-430e-4a08-942e-a335fc3e0918",
   "metadata": {
    "language": "sql",
    "name": "sql_set_telemetry_levels",
    "collapsed": false,
    "resultHeight": 111
   },
   "outputs": [],
   "source": "-- set log, trace and metrtic levels\nALTER DATABASE {{__database}} SET LOG_LEVEL = DEBUG;\nALTER DATABASE {{__database}} SET TRACE_LEVEL = ALWAYS;\nALTER DATABASE {{__database}} SET METRIC_LEVEL = ALL;",
   "execution_count": null
  },
  {
   "cell_type": "markdown",
   "id": "7c0e73f5-8636-468d-aa68-d50fb5cf99ef",
   "metadata": {
    "name": "md_view_data",
    "collapsed": false,
    "resultHeight": 102
   },
   "source": "## Truck Reviews\nLet's ensure we have the data ingested and ready to use."
  },
  {
   "cell_type": "code",
   "id": "1190b9de-b97c-4c61-8e32-7a8c0abf0447",
   "metadata": {
    "language": "sql",
    "name": "py_sql_truck_reviews",
    "collapsed": false,
    "resultHeight": 251
   },
   "outputs": [],
   "source": "select * \nfrom {{__database}}.analytics.truck_reviews_v\nlimit 5;",
   "execution_count": null
  },
  {
   "cell_type": "markdown",
   "id": "8f513c50-8e1c-467d-b155-0273d5ed1956",
   "metadata": {
    "name": "md_tasks",
    "collapsed": false,
    "resultHeight": 102
   },
   "source": "## Tasks\nLet's create a few tasks to execute the stored procedure and build our truck_review_sentiments table."
  },
  {
   "cell_type": "code",
   "id": "314a5999-c26a-4974-9ede-53e08710ac94",
   "metadata": {
    "language": "python",
    "name": "task_truck_sentiments",
    "collapsed": false,
    "resultHeight": 0
   },
   "outputs": [],
   "source": "from datetime import timedelta\n\nfrom snowflake.core.task import StoredProcedureCall, Task\n\ntruck_sentiment_task = Task(\n    name=__task_name,\n    warehouse=__warehouse,\n    definition=StoredProcedureCall(build_truck_review_sentiments),\n    schedule=timedelta(minutes=1),\n)\n\ntask_truck_sentiment = (\n    root.databases[__database].schemas[__task_schema].tasks[__task_name]\n)\n\ntask_truck_sentiment.create_or_alter(truck_sentiment_task)",
   "execution_count": null
  },
  {
   "cell_type": "code",
   "id": "94fba846-827a-44ba-8a96-902065ddeaff",
   "metadata": {
    "language": "python",
    "name": "task_status",
    "collapsed": false,
    "resultHeight": 42
   },
   "outputs": [],
   "source": "tasks = root.databases[__database].schemas[__task_schema].tasks\n__task_truck_sentiment = tasks[__task_name]\ntask_detials = __task_truck_sentiment.fetch()\nst.write(f\"Current Task Status:`{task_detials.state}`\")",
   "execution_count": null
  },
  {
   "cell_type": "markdown",
   "id": "b6375f4e-6904-4793-9fb9-db5005a0505c",
   "metadata": {
    "name": "cell11",
    "collapsed": false,
    "resultHeight": 41
   },
   "source": "Resume the task."
  },
  {
   "cell_type": "code",
   "id": "41c03646-2289-4d77-b18d-d336339caad8",
   "metadata": {
    "language": "python",
    "name": "resume_task",
    "collapsed": false,
    "resultHeight": 0
   },
   "outputs": [],
   "source": "__task_truck_sentiment.resume()",
   "execution_count": null
  },
  {
   "cell_type": "markdown",
   "id": "ad7923a5-c985-4188-a650-0cbbc6b1d89e",
   "metadata": {
    "name": "cell12",
    "collapsed": false,
    "resultHeight": 41
   },
   "source": "Suspend the task."
  },
  {
   "cell_type": "code",
   "id": "b5e73f5e-026d-4186-9d4b-1d5c1ff56d81",
   "metadata": {
    "language": "python",
    "name": "suspend_task",
    "collapsed": false,
    "resultHeight": 0
   },
   "outputs": [],
   "source": "__task_truck_sentiment.suspend()",
   "execution_count": null
  },
  {
   "cell_type": "markdown",
   "id": "c54f601b-29b6-434c-a247-dc3b2cde8f7d",
   "metadata": {
    "name": "cell13",
    "collapsed": false,
    "resultHeight": 41
   },
   "source": "Execute the task immediately."
  },
  {
   "cell_type": "code",
   "id": "044a67f7-854e-4b91-b4ac-ba78b112e9b9",
   "metadata": {
    "language": "python",
    "name": "run_task_immediately",
    "collapsed": false,
    "resultHeight": 0
   },
   "outputs": [],
   "source": "__task_truck_sentiment.execute()",
   "execution_count": null
  },
  {
   "cell_type": "markdown",
   "id": "6d3871ca-b779-46d9-8db4-fed18101cc51",
   "metadata": {
    "name": "cell1",
    "collapsed": false,
    "resultHeight": 74
   },
   "source": "# Alerts and Notifications"
  },
  {
   "cell_type": "markdown",
   "id": "1989ae1b-25dd-4389-b435-3f05da32c3c2",
   "metadata": {
    "name": "md_serverless_alerts",
    "collapsed": false,
    "resultHeight": 179
   },
   "source": "## Serverless Alerts\nAlerts that use the serverless compute model are called serverless alerts. When using the serverless compute model, Snowflake automatically resizes and scales the required compute resources for the alert. Snowflake determines the ideal compute resource size for each run based on a dynamic analysis of statistics from the alert's most recent previous executions."
  },
  {
   "cell_type": "markdown",
   "id": "3010ee4b-fb63-405d-b12d-5db5388121ba",
   "metadata": {
    "name": "cell5",
    "collapsed": false,
    "resultHeight": 321
   },
   "source": "## Slack Notifications\nTo create a Slack Webhook notification, we need to complete the following steps:\n\n1. Create a Slack Webhook using the [Slack API](https://api.slack.com/apps) to enable posting to a channel. For detailed instructions, refer to the [Slack Webhooks documentation](https://api.slack.com/messaging/webhooks).\n\n2. Obtain the Slack Webhook URL for channel posting. The URL format follows this pattern:\n   `https://hooks.slack.com/services/<slack webhook secret content>`\n\n3. Create a string-type secret containing the `<slack webhook secret content>` value.\n\n4. Create a `NOTIFICATION INTEGRATION` using both the `secret` and the `Slack Webhook URL`."
  },
  {
   "cell_type": "markdown",
   "id": "4780713e-4b60-4d09-970d-ba0ae9d7096f",
   "metadata": {
    "name": "md_slack_webhook_secret",
    "collapsed": false,
    "resultHeight": 140
   },
   "source": "### Create Slack Webhook Secret\nThe Slack webhook secret can be extracted from the Webhook URL. For example, if your URL is `https://hooks.slack.com/services/Txxxxxxx/B000000000/xxxxxxxxxx`, use the string `Txxxxxxx/B000000000/xxxxxxxxxx` as the `SECRET_STRING`."
  },
  {
   "cell_type": "code",
   "id": "3af9d926-8784-40b9-a647-e727e54d888a",
   "metadata": {
    "language": "python",
    "name": "get_slack_secret",
    "collapsed": false,
    "resultHeight": 84
   },
   "outputs": [],
   "source": "slack_webhook_secret = st.text_input(\"Enter Slack Webhook Secret:\",type=\"password\")\nif slack_webhook_secret == \"\":\n    raise Exception(\"Slack webhook secret is required.\")",
   "execution_count": null
  },
  {
   "cell_type": "markdown",
   "id": "8ca2e9ca-650d-40d9-8675-2fd75349254d",
   "metadata": {
    "name": "cell14",
    "collapsed": false,
    "resultHeight": 41
   },
   "source": "Let's define variables to hold the names of the alert and notification objects."
  },
  {
   "cell_type": "code",
   "id": "dcee0962-2136-4936-bdb2-a1ec71ad8fd0",
   "metadata": {
    "language": "python",
    "name": "alert_variables",
    "collapsed": false,
    "resultHeight": 0
   },
   "outputs": [],
   "source": "__slack_webhook_secret_name='slack_alerts_notifications_webhook'\n__slack_notification='slack_channel_alerts_notify'\n__truck_negatives_alert='truck_review_alert'",
   "execution_count": null
  },
  {
   "cell_type": "markdown",
   "id": "31f03170-08ea-40ce-8a1b-dabba703ba22",
   "metadata": {
    "name": "cell15",
    "collapsed": false,
    "resultHeight": 41
   },
   "source": "Let's create a secret to hold the Slack webhook secret."
  },
  {
   "cell_type": "code",
   "id": "e17233e5-4180-4712-86fd-414a71c44570",
   "metadata": {
    "language": "sql",
    "name": "slack_webhook_secret",
    "collapsed": false,
    "resultHeight": 111
   },
   "outputs": [],
   "source": "CREATE OR REPLACE SECRET {{__database}}.{{__alerts_schema}}.{{__slack_webhook_secret_name}}\n  TYPE = GENERIC_STRING\n  SECRET_STRING = '{{slack_webhook_secret}}';",
   "execution_count": null
  },
  {
   "cell_type": "markdown",
   "id": "ec05b6b4-5509-43b8-936f-c7bd73f2d17d",
   "metadata": {
    "name": "cell16",
    "collapsed": false,
    "resultHeight": 41
   },
   "source": "[Notification Integration](https://docs.snowflake.com/en/sql-reference/commands-integration) enables us to trigger a notification on an alert."
  },
  {
   "cell_type": "code",
   "id": "972cb37d-c610-403a-9ceb-4d1322801849",
   "metadata": {
    "language": "sql",
    "name": "slack_notification",
    "collapsed": false,
    "resultHeight": 111
   },
   "outputs": [],
   "source": "-- send to channel \nCREATE OR REPLACE NOTIFICATION INTEGRATION {{__slack_notification}}\n  TYPE = WEBHOOK\n  ENABLED = true\n  WEBHOOK_URL = 'https://hooks.slack.com/services/SNOWFLAKE_WEBHOOK_SECRET'\n  WEBHOOK_SECRET = {{__database}}.{{__alerts_schema}}.{{__slack_webhook_secret_name}}\n  WEBHOOK_BODY_TEMPLATE='SNOWFLAKE_WEBHOOK_MESSAGE'\n  WEBHOOK_HEADERS=('Content-Type'='application/json');",
   "execution_count": null
  },
  {
   "cell_type": "markdown",
   "id": "dec6abbe-cce8-4a54-a722-80591aa990de",
   "metadata": {
    "name": "cell17",
    "collapsed": false,
    "resultHeight": 305
   },
   "source": "## Serverless Alert\nLet's define a serverless alert that triggers when data in `truck_review_sentiments` has the class `negative` and a sentiment score less than `-0.8`. For simplicity in this demo, we will retrieve only the top three negative records.\n\nOnce we have the negative records, we will use [Cortex Complete](https://docs.snowflake.com/en/sql-reference/functions/complete-snowflake-cortex) to construct a Slack message that will be sent as part of the notification.\n\n> *NOTE*:\n>\n> To convert a normal alert to a serverless alert, omit the `WAREHOUSE` property."
  },
  {
   "cell_type": "code",
   "id": "804ef84e-8eee-4268-aa5e-ac1caf4e822d",
   "metadata": {
    "language": "sql",
    "name": "truck_review_alert",
    "collapsed": false,
    "resultHeight": 111
   },
   "outputs": [],
   "source": "-- Alert - alerts when there is stronger negative feedback\n-- Truck Review Alert\nCREATE OR REPLACE ALERT {{__database}}.{{__alerts_schema}}.{{__truck_negatives_alert}}\n  SCHEDULE = '1 minute'\n  IF(\n      EXISTS(\n        WITH negative_reviews AS (\n            SELECT \n                truck_id,\n                review,\n                sentiment_score,\n                ROW_NUMBER() OVER (PARTITION BY truck_id ORDER BY sentiment_score ASC) as worst_review_rank\n            FROM data.truck_review_sentiments\n            WHERE sentiment_class = 'negative'\n            AND sentiment_score < -0.8\n        )\n        SELECT \n            truck_id,\n            review,\n            sentiment_score\n        FROM negative_reviews\n        WHERE worst_review_rank = 1\n        ORDER BY sentiment_score ASC\n        LIMIT 3 -- top 3 only\n      )\n    )\n  THEN\n    BEGIN\n        -- TODO add event\n        LET rs RESULTSET := (\n            WITH REVIEW_DATA AS (\n                    SELECT truck_id, review\n                    FROM TABLE(RESULT_SCAN(SNOWFLAKE.ALERT.GET_CONDITION_QUERY_UUID()))\n                ),\n                SUMMARIZED_CONTENT AS (\n                SELECT \n                    SNOWFLAKE.CORTEX.COMPLETE(\n                        'llama3.1-405b',\n                        CONCAT(\n                            'Summarize the review as bullets formatted for slack notification blocks with right and consistent emojis and always add truck id to the Review Alert header along with truck emoji and stay consistent with Header like <alert emoji> Review  <alert emoji> <truck emoji> <space> Truck ID - <truck id>:',\n                            '<REVIEW>', \n                            REVIEW, \n                            '</REVIEW>',\n                            'Quote the truck id.', \n                            TRUCK_ID,\n                            '.Generate only Slack blocks and strictly ignore other text.'\n                        )) AS SUMMARY\n                FROM REVIEW_DATA\n            ),\n            FORMATTED_BLOCKS AS (\n                SELECT SNOWFLAKE.NOTIFICATION.SANITIZE_WEBHOOK_CONTENT(SUMMARY) AS CLEAN_BLOCKS\n                FROM SUMMARIZED_CONTENT\n            ),\n            JSON_BLOCKS AS (\n                SELECT SNOWFLAKE.NOTIFICATION.APPLICATION_JSON(CONCAT('{\"blocks\":',CLEAN_BLOCKS,'}')) AS BLOCKS\n                FROM FORMATTED_BLOCKS\n            )\n            -- slack message content blocks\n            SELECT BLOCKS FROM JSON_BLOCKS\n        );\n    \n        FOR record IN rs DO\n            let slack_message varchar := record.BLOCKS;\n            SYSTEM$LOG_INFO('SLACK MESSAGE:',OBJECT_CONSTRUCT('slack_message', slack_message));\n            CALL SYSTEM$SEND_SNOWFLAKE_NOTIFICATION(\n                :slack_message,\n                SNOWFLAKE.NOTIFICATION.INTEGRATION('{{__slack_notification}}')\n            );\n        END FOR;\n    END;\n",
   "execution_count": null
  },
  {
   "cell_type": "markdown",
   "id": "ea5dc107-2515-4f32-be3f-4059b26c8cdb",
   "metadata": {
    "name": "cell18",
    "collapsed": false,
    "resultHeight": 41
   },
   "source": "Let's trigger the alert immediately."
  },
  {
   "cell_type": "code",
   "id": "69e4a26c-65c5-4c5b-acbe-33c2446e9e15",
   "metadata": {
    "language": "sql",
    "name": "execute_alert",
    "collapsed": false,
    "resultHeight": 111
   },
   "outputs": [],
   "source": "EXECUTE ALERT {{__database}}.{{__alerts_schema}}.{{__truck_negatives_alert}};",
   "execution_count": null
  },
  {
   "cell_type": "markdown",
   "id": "16d0a845-fbb5-4e25-b4bd-2fa293f7fdb0",
   "metadata": {
    "name": "cell19",
    "collapsed": false,
    "resultHeight": 41
   },
   "source": "Suspend the alert if needed."
  },
  {
   "cell_type": "code",
   "id": "52a95ce6-e3f1-4919-8cc9-3285f7cf663d",
   "metadata": {
    "language": "sql",
    "name": "suspend_alert",
    "collapsed": false,
    "resultHeight": 0
   },
   "outputs": [],
   "source": "ALTER ALERT {{__database}}.{{__alerts_schema}}.{{__truck_negatives_alert}} SUSPEND;",
   "execution_count": null
  },
  {
   "cell_type": "markdown",
   "id": "8a73600c-570a-4b0d-97c8-35592ac8a6b8",
   "metadata": {
    "name": "cell20",
    "collapsed": false,
    "resultHeight": 451
   },
   "source": "## Alert and Notification History\n\nSnowflake provides dedicated stored procedures to view the execution history of alerts and notifications. These procedures allow you to monitor and audit your alert and notification activities.\n\nTo retrieve historical data, use these stored procedures:\n\n### Alert History\n```sql\nINFORMATION_SCHEMA.ALERT_HISTORY\n```\nThis procedure returns detailed records of past alert executions.\n\n### Notification History\n```sql\nINFORMATION_SCHEMA.NOTIFICATION_HISTORY\n```"
  },
  {
   "cell_type": "code",
   "id": "3890fbdf-894c-49d6-998f-07a8b7dc84a2",
   "metadata": {
    "language": "python",
    "name": "st_view_alert_history",
    "collapsed": false,
    "resultHeight": 0
   },
   "outputs": [],
   "source": "st.header(\"Alert History\")\nscheduled_time_range_start = st.slider(\"Schedule Time Range Start(mins):\",min_value=5,max_value=60)\n#alert_history_tf=session.table_function(information_schema.alert_history)\n",
   "execution_count": null
  },
  {
   "cell_type": "code",
   "id": "0c5a98c2-ce2f-4293-aaf4-fed3c5b5d000",
   "metadata": {
    "language": "python",
    "name": "view_alert_history",
    "collapsed": false,
    "resultHeight": 0
   },
   "outputs": [],
   "source": "df=session.sql(f\"\"\"\nSelect name,database_name,schema_name,action,state,sql_error_message\nfrom\n  table(information_schema.alert_history(\n    scheduled_time_range_start\n      =>dateadd('minutes',-{scheduled_time_range_start},current_timestamp())))\norder by scheduled_time desc\n\"\"\")\nst.dataframe(df)",
   "execution_count": null
  },
  {
   "cell_type": "code",
   "id": "fec79688-f59a-4b4d-b2d9-12e478e23462",
   "metadata": {
    "language": "python",
    "name": "st_notification_history",
    "collapsed": false,
    "resultHeight": 0
   },
   "outputs": [],
   "source": "st.header(\"Notification History\")\n_start_time = st.slider(\"Start time(mins):\",min_value=5,max_value=60)\n#alert_history_tf=session.table_function(information_schema.alert_history)",
   "execution_count": null
  },
  {
   "cell_type": "code",
   "id": "c81fc3a4-dbc8-4097-ac01-d0e0a215e3e7",
   "metadata": {
    "language": "python",
    "name": "notification_history",
    "collapsed": false,
    "resultHeight": 0
   },
   "outputs": [],
   "source": "notify_df=session.sql(f\"\"\"\nSELECT INTEGRATION_NAME,STATUS,ERROR_MESSAGE \nFROM TABLE(INFORMATION_SCHEMA.NOTIFICATION_HISTORY(\n  START_TIME => dateadd('minutes',-{_start_time},current_timestamp()),\n  INTEGRATION_NAME => '{__slack_notification}'\n))\n\"\"\")\nst.dataframe(notify_df)",
   "execution_count": null
  },
  {
   "cell_type": "markdown",
   "id": "f92b0393-4165-4fd9-a77d-a30f481c6f1b",
   "metadata": {
    "name": "md_cleanup",
    "collapsed": false,
    "resultHeight": 102
   },
   "source": "## Resource Cleanup\n\nTo prevent unnecessary resource consumption and cost."
  },
  {
   "cell_type": "code",
   "id": "6f507949-f5c5-4193-9b57-339334993d20",
   "metadata": {
    "language": "sql",
    "name": "cleanup",
    "collapsed": false,
    "resultHeight": 111
   },
   "outputs": [],
   "source": "DROP NOTIFICATION INTEGRATION {{__slack_notification}};\nDROP DATABASE {{__database}}",
   "execution_count": null
  }
 ]
}